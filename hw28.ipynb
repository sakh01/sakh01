{
  "nbformat": 4,
  "nbformat_minor": 0,
  "metadata": {
    "colab": {
      "provenance": []
    },
    "kernelspec": {
      "name": "python3",
      "display_name": "Python 3"
    },
    "language_info": {
      "name": "python"
    }
  },
  "cells": [
    {
      "cell_type": "markdown",
      "source": [
        "Q1:\n",
        "GitHub is a platform that hosts code for version control and teamwork. It enables remote collaboration on projects between you and other people. it offers a framework for collaborative software development and version control is one of GitHub's goals. It makes it simple for developers to share and merge code with others, manage multiple project versions, and keep track of changes made to their code. GitHub serves as a center for collaboration in the software development community by acting as a central repository for hosting and providing open-source projects.\n",
        "\n",
        "Q2:\n",
        "version control system can track changes of history as teams and people collaborate on a project together.\n",
        "it will help us in our project to look back out our code notebook and help us track back codes incase we got some errors as we move forward with project\n",
        "\n",
        "Q3:\n",
        "gitub can allow people to work and edit on a project at different times and places as it allow access to everyone through the internet from anywhere\n",
        "the version control allows people to track back and refrence back to changes in the project. this is important as it helps in understaing the project progress"
      ],
      "metadata": {
        "id": "o1CXyMY_-Cbe"
      }
    }
  ]
}